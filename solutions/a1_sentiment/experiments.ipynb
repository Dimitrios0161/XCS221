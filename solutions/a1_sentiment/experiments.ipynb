{
 "cells": [
  {
   "cell_type": "code",
   "execution_count": 241,
   "outputs": [],
   "source": [
    "import random\n",
    "from typing import Callable, Dict, List, Tuple, TypeVar, DefaultDict\n",
    "from util import dotProduct, evaluatePredictor, increment, generateClusteringExamples\n",
    "\n",
    "import math\n",
    "\n",
    "FeatureVector = Dict[str, int]\n",
    "WeightVector = Dict[str, float]\n",
    "Example = Tuple[FeatureVector, int]"
   ],
   "metadata": {
    "collapsed": false,
    "pycharm": {
     "name": "#%%\n"
    }
   }
  },
  {
   "cell_type": "code",
   "execution_count": 98,
   "metadata": {
    "collapsed": true,
    "pycharm": {
     "name": "#%%\n"
    }
   },
   "outputs": [],
   "source": [
    "FeatureVector = Dict[str, int]\n",
    "def extractWordFeatures(x: str) -> FeatureVector:\n",
    "   \"\"\"\n",
    "   Extract word features for a string x. Words are delimited by\n",
    "   whitespace characters only.\n",
    "   @param string x:\n",
    "   @return dict: feature vector representation of x.\n",
    "   Example: \"I am what I am\" --> {'I': 2, 'am': 2, 'what': 1}\n",
    "   \"\"\"\n",
    "   pass\n",
    "   # ### START CODE HERE ###\n",
    "   FeatureVector = {}\n",
    "   for word in x.split():\n",
    "       if word not in FeatureVector:\n",
    "           FeatureVector[word]=1\n",
    "       else:\n",
    "           FeatureVector[word] += 1\n",
    "   return FeatureVector\n",
    "    # ### END CODE HERE ###"
   ]
  },
  {
   "cell_type": "code",
   "execution_count": 239,
   "outputs": [],
   "source": [
    "def learnPredictor_lv(\n",
    "    trainExamples: List[Tuple[T, int]],\n",
    "    validationExamples: List[Tuple[T, int]],\n",
    "    featureExtractor: Callable[[T], FeatureVector],\n",
    "    numEpochs: int,\n",
    "    eta: float,\n",
    ") -> WeightVector:\n",
    "    \"\"\"\n",
    "    Given |trainExamples| and |validationExamples| (each one is a list of (x,y)\n",
    "    pairs), a |featureExtractor| to apply to x, and the number of epochs to\n",
    "    train |numEpochs|, the step size |eta|, return the weight vector (sparse\n",
    "    feature vector) learned.\n",
    "\n",
    "    You should implement stochastic gradient descent.\n",
    "\n",
    "    Notes:\n",
    "    - Only use the trainExamples for training!\n",
    "    - You should call evaluatePredictor() on both trainExamples and validationExamples\n",
    "    to see how you're doing as you learn after each epoch.\n",
    "    - The predictor should output +1 if the score is precisely 0.\n",
    "    \"\"\"\n",
    "    weights = {}  # feature => weight\n",
    "    # ### START CODE HERE ###\n",
    "\n",
    "# ------------- Deprecated test functions -------------\n",
    "#    def InitialWeightVector(t):\n",
    "#        WeightVector = {}\n",
    "#        for i in range(len(t)):\n",
    "#            x, _ = t[i]\n",
    "#            for word in x.split():\n",
    "#                if word not in WeightVector:\n",
    "#                    WeightVector[word] = 0\n",
    "#        return WeightVector\n",
    "#\n",
    "#    zero_w = InitialWeightVector(trainExamples)\n",
    "#    #print(zero_w)\n",
    "#\n",
    "#    def phi_x(x):\n",
    "#        x_f_set = featureExtractor(x)\n",
    "#        zero_w_x = zero_w.copy()\n",
    "#        #print('Zero vector to create F(x)' + str(zero_w_x))\n",
    "#        for k in x_f_set:\n",
    "#            zero_w_x[k] = x_f_set[k]\n",
    "#        #print('Feature vector F(x)'+ str(zero_w_x))\n",
    "#        return zero_w_x\n",
    "#\n",
    "#    def phi_x_set(t):\n",
    "#        featureset = []\n",
    "#        for i in range(len(t)):\n",
    "#            x,_ = t[i]\n",
    "#            x_f_set = extractWordFeatures(x)\n",
    "#            zero_w_x = zero_w.copy()\n",
    "#        #print('Zero vector to create F(x)' + str(zero_w_x))\n",
    "#            for k in x_f_set:\n",
    "#                zero_w_x[k] = x_f_set[k]\n",
    "#        #print('Feature vector F(x)'+ str(zero_w_x))\n",
    "#            featureset.append(zero_w_x)\n",
    "#        return featureset\n",
    "#\n",
    "#    set_of_features = phi_x_set(trainExamples)\n",
    "#    print(set_of_features)\n",
    "#\n",
    "#    def loss(w, i):\n",
    "#      x, y = trainExamples[i]\n",
    "#      phix_loss = phi_x(x)\n",
    "#      #print('F(x) to use for loss' + str (phix_loss))\n",
    "#      return max(1 - dotProduct(w, phix_loss) * y, 0)\n",
    "#\n",
    "# ------------- Deprecated test functions -------------\n",
    "\n",
    "    # ------------- Hinge Loss Start -------------\n",
    "\n",
    "\n",
    "    def gradientLoss(w, i):\n",
    "        x,y = trainExamples[i]\n",
    "        phix_grad = featureExtractor(x)\n",
    "        print('F(x) to use for gradient' + str(phix_grad))\n",
    "        print('Weigths' + str(w))\n",
    "        if (1 - dotProduct(w, phix_grad) * y) < 0:\n",
    "            y = 0\n",
    "        #print('Gradient for update w' + str(phix_grad))\n",
    "        return phix_grad, y\n",
    "    # ------------- Hinge Loss Start -------------\n",
    "\n",
    "    def stochasticGradientDescent(gradientLoss,n,numEpochs,eta):\n",
    "        w = {}\n",
    "        for t in range(numEpochs):\n",
    "            for i in range(n):\n",
    "                gradient, y = gradientLoss(w, i)\n",
    "                increment(w,-eta*-y,gradient)\n",
    "                print(w)\n",
    "        predictor = lambda x : 1 if dotProduct(featureExtractor(x), w) > 0 else -1\n",
    "        print(evaluatePredictor(trainExamples,predictor))\n",
    "        print(evaluatePredictor(validationExamples,predictor))\n",
    "        return w\n",
    "\n",
    "    weights = stochasticGradientDescent(gradientLoss, len(trainExamples),numEpochs,eta)\n",
    "    # ### END CODE HERE ###\n",
    "    return weights"
   ],
   "metadata": {
    "collapsed": false,
    "pycharm": {
     "name": "#%%\n"
    }
   }
  },
  {
   "cell_type": "code",
   "execution_count": 240,
   "outputs": [
    {
     "name": "stdout",
     "output_type": "stream",
     "text": [
      "F(x) to use for gradient{'hello': 1, 'world': 1}\n",
      "Weigths{}\n",
      "{'hello': 0.01, 'world': 0.01}\n",
      "F(x) to use for gradient{'goodnight': 1, 'moon': 1}\n",
      "Weigths{'hello': 0.01, 'world': 0.01}\n",
      "{'hello': 0.01, 'world': 0.01, 'goodnight': -0.01, 'moon': -0.01}\n",
      "F(x) to use for gradient{'hello': 1, 'world': 1}\n",
      "Weigths{'hello': 0.01, 'world': 0.01, 'goodnight': -0.01, 'moon': -0.01}\n",
      "{'hello': 0.02, 'world': 0.02, 'goodnight': -0.01, 'moon': -0.01}\n",
      "F(x) to use for gradient{'goodnight': 1, 'moon': 1}\n",
      "Weigths{'hello': 0.02, 'world': 0.02, 'goodnight': -0.01, 'moon': -0.01}\n",
      "{'hello': 0.02, 'world': 0.02, 'goodnight': -0.02, 'moon': -0.02}\n",
      "F(x) to use for gradient{'hello': 1, 'world': 1}\n",
      "Weigths{'hello': 0.02, 'world': 0.02, 'goodnight': -0.02, 'moon': -0.02}\n",
      "{'hello': 0.03, 'world': 0.03, 'goodnight': -0.02, 'moon': -0.02}\n",
      "F(x) to use for gradient{'goodnight': 1, 'moon': 1}\n",
      "Weigths{'hello': 0.03, 'world': 0.03, 'goodnight': -0.02, 'moon': -0.02}\n",
      "{'hello': 0.03, 'world': 0.03, 'goodnight': -0.03, 'moon': -0.03}\n",
      "F(x) to use for gradient{'hello': 1, 'world': 1}\n",
      "Weigths{'hello': 0.03, 'world': 0.03, 'goodnight': -0.03, 'moon': -0.03}\n",
      "{'hello': 0.04, 'world': 0.04, 'goodnight': -0.03, 'moon': -0.03}\n",
      "F(x) to use for gradient{'goodnight': 1, 'moon': 1}\n",
      "Weigths{'hello': 0.04, 'world': 0.04, 'goodnight': -0.03, 'moon': -0.03}\n",
      "{'hello': 0.04, 'world': 0.04, 'goodnight': -0.04, 'moon': -0.04}\n",
      "F(x) to use for gradient{'hello': 1, 'world': 1}\n",
      "Weigths{'hello': 0.04, 'world': 0.04, 'goodnight': -0.04, 'moon': -0.04}\n",
      "{'hello': 0.05, 'world': 0.05, 'goodnight': -0.04, 'moon': -0.04}\n",
      "F(x) to use for gradient{'goodnight': 1, 'moon': 1}\n",
      "Weigths{'hello': 0.05, 'world': 0.05, 'goodnight': -0.04, 'moon': -0.04}\n",
      "{'hello': 0.05, 'world': 0.05, 'goodnight': -0.05, 'moon': -0.05}\n",
      "F(x) to use for gradient{'hello': 1, 'world': 1}\n",
      "Weigths{'hello': 0.05, 'world': 0.05, 'goodnight': -0.05, 'moon': -0.05}\n",
      "{'hello': 0.060000000000000005, 'world': 0.060000000000000005, 'goodnight': -0.05, 'moon': -0.05}\n",
      "F(x) to use for gradient{'goodnight': 1, 'moon': 1}\n",
      "Weigths{'hello': 0.060000000000000005, 'world': 0.060000000000000005, 'goodnight': -0.05, 'moon': -0.05}\n",
      "{'hello': 0.060000000000000005, 'world': 0.060000000000000005, 'goodnight': -0.060000000000000005, 'moon': -0.060000000000000005}\n",
      "F(x) to use for gradient{'hello': 1, 'world': 1}\n",
      "Weigths{'hello': 0.060000000000000005, 'world': 0.060000000000000005, 'goodnight': -0.060000000000000005, 'moon': -0.060000000000000005}\n",
      "{'hello': 0.07, 'world': 0.07, 'goodnight': -0.060000000000000005, 'moon': -0.060000000000000005}\n",
      "F(x) to use for gradient{'goodnight': 1, 'moon': 1}\n",
      "Weigths{'hello': 0.07, 'world': 0.07, 'goodnight': -0.060000000000000005, 'moon': -0.060000000000000005}\n",
      "{'hello': 0.07, 'world': 0.07, 'goodnight': -0.07, 'moon': -0.07}\n",
      "F(x) to use for gradient{'hello': 1, 'world': 1}\n",
      "Weigths{'hello': 0.07, 'world': 0.07, 'goodnight': -0.07, 'moon': -0.07}\n",
      "{'hello': 0.08, 'world': 0.08, 'goodnight': -0.07, 'moon': -0.07}\n",
      "F(x) to use for gradient{'goodnight': 1, 'moon': 1}\n",
      "Weigths{'hello': 0.08, 'world': 0.08, 'goodnight': -0.07, 'moon': -0.07}\n",
      "{'hello': 0.08, 'world': 0.08, 'goodnight': -0.08, 'moon': -0.08}\n",
      "F(x) to use for gradient{'hello': 1, 'world': 1}\n",
      "Weigths{'hello': 0.08, 'world': 0.08, 'goodnight': -0.08, 'moon': -0.08}\n",
      "{'hello': 0.09, 'world': 0.09, 'goodnight': -0.08, 'moon': -0.08}\n",
      "F(x) to use for gradient{'goodnight': 1, 'moon': 1}\n",
      "Weigths{'hello': 0.09, 'world': 0.09, 'goodnight': -0.08, 'moon': -0.08}\n",
      "{'hello': 0.09, 'world': 0.09, 'goodnight': -0.09, 'moon': -0.09}\n",
      "F(x) to use for gradient{'hello': 1, 'world': 1}\n",
      "Weigths{'hello': 0.09, 'world': 0.09, 'goodnight': -0.09, 'moon': -0.09}\n",
      "{'hello': 0.09999999999999999, 'world': 0.09999999999999999, 'goodnight': -0.09, 'moon': -0.09}\n",
      "F(x) to use for gradient{'goodnight': 1, 'moon': 1}\n",
      "Weigths{'hello': 0.09999999999999999, 'world': 0.09999999999999999, 'goodnight': -0.09, 'moon': -0.09}\n",
      "{'hello': 0.09999999999999999, 'world': 0.09999999999999999, 'goodnight': -0.09999999999999999, 'moon': -0.09999999999999999}\n",
      "F(x) to use for gradient{'hello': 1, 'world': 1}\n",
      "Weigths{'hello': 0.09999999999999999, 'world': 0.09999999999999999, 'goodnight': -0.09999999999999999, 'moon': -0.09999999999999999}\n",
      "{'hello': 0.10999999999999999, 'world': 0.10999999999999999, 'goodnight': -0.09999999999999999, 'moon': -0.09999999999999999}\n",
      "F(x) to use for gradient{'goodnight': 1, 'moon': 1}\n",
      "Weigths{'hello': 0.10999999999999999, 'world': 0.10999999999999999, 'goodnight': -0.09999999999999999, 'moon': -0.09999999999999999}\n",
      "{'hello': 0.10999999999999999, 'world': 0.10999999999999999, 'goodnight': -0.10999999999999999, 'moon': -0.10999999999999999}\n",
      "F(x) to use for gradient{'hello': 1, 'world': 1}\n",
      "Weigths{'hello': 0.10999999999999999, 'world': 0.10999999999999999, 'goodnight': -0.10999999999999999, 'moon': -0.10999999999999999}\n",
      "{'hello': 0.11999999999999998, 'world': 0.11999999999999998, 'goodnight': -0.10999999999999999, 'moon': -0.10999999999999999}\n",
      "F(x) to use for gradient{'goodnight': 1, 'moon': 1}\n",
      "Weigths{'hello': 0.11999999999999998, 'world': 0.11999999999999998, 'goodnight': -0.10999999999999999, 'moon': -0.10999999999999999}\n",
      "{'hello': 0.11999999999999998, 'world': 0.11999999999999998, 'goodnight': -0.11999999999999998, 'moon': -0.11999999999999998}\n",
      "F(x) to use for gradient{'hello': 1, 'world': 1}\n",
      "Weigths{'hello': 0.11999999999999998, 'world': 0.11999999999999998, 'goodnight': -0.11999999999999998, 'moon': -0.11999999999999998}\n",
      "{'hello': 0.12999999999999998, 'world': 0.12999999999999998, 'goodnight': -0.11999999999999998, 'moon': -0.11999999999999998}\n",
      "F(x) to use for gradient{'goodnight': 1, 'moon': 1}\n",
      "Weigths{'hello': 0.12999999999999998, 'world': 0.12999999999999998, 'goodnight': -0.11999999999999998, 'moon': -0.11999999999999998}\n",
      "{'hello': 0.12999999999999998, 'world': 0.12999999999999998, 'goodnight': -0.12999999999999998, 'moon': -0.12999999999999998}\n",
      "F(x) to use for gradient{'hello': 1, 'world': 1}\n",
      "Weigths{'hello': 0.12999999999999998, 'world': 0.12999999999999998, 'goodnight': -0.12999999999999998, 'moon': -0.12999999999999998}\n",
      "{'hello': 0.13999999999999999, 'world': 0.13999999999999999, 'goodnight': -0.12999999999999998, 'moon': -0.12999999999999998}\n",
      "F(x) to use for gradient{'goodnight': 1, 'moon': 1}\n",
      "Weigths{'hello': 0.13999999999999999, 'world': 0.13999999999999999, 'goodnight': -0.12999999999999998, 'moon': -0.12999999999999998}\n",
      "{'hello': 0.13999999999999999, 'world': 0.13999999999999999, 'goodnight': -0.13999999999999999, 'moon': -0.13999999999999999}\n",
      "F(x) to use for gradient{'hello': 1, 'world': 1}\n",
      "Weigths{'hello': 0.13999999999999999, 'world': 0.13999999999999999, 'goodnight': -0.13999999999999999, 'moon': -0.13999999999999999}\n",
      "{'hello': 0.15, 'world': 0.15, 'goodnight': -0.13999999999999999, 'moon': -0.13999999999999999}\n",
      "F(x) to use for gradient{'goodnight': 1, 'moon': 1}\n",
      "Weigths{'hello': 0.15, 'world': 0.15, 'goodnight': -0.13999999999999999, 'moon': -0.13999999999999999}\n",
      "{'hello': 0.15, 'world': 0.15, 'goodnight': -0.15, 'moon': -0.15}\n",
      "F(x) to use for gradient{'hello': 1, 'world': 1}\n",
      "Weigths{'hello': 0.15, 'world': 0.15, 'goodnight': -0.15, 'moon': -0.15}\n",
      "{'hello': 0.16, 'world': 0.16, 'goodnight': -0.15, 'moon': -0.15}\n",
      "F(x) to use for gradient{'goodnight': 1, 'moon': 1}\n",
      "Weigths{'hello': 0.16, 'world': 0.16, 'goodnight': -0.15, 'moon': -0.15}\n",
      "{'hello': 0.16, 'world': 0.16, 'goodnight': -0.16, 'moon': -0.16}\n",
      "F(x) to use for gradient{'hello': 1, 'world': 1}\n",
      "Weigths{'hello': 0.16, 'world': 0.16, 'goodnight': -0.16, 'moon': -0.16}\n",
      "{'hello': 0.17, 'world': 0.17, 'goodnight': -0.16, 'moon': -0.16}\n",
      "F(x) to use for gradient{'goodnight': 1, 'moon': 1}\n",
      "Weigths{'hello': 0.17, 'world': 0.17, 'goodnight': -0.16, 'moon': -0.16}\n",
      "{'hello': 0.17, 'world': 0.17, 'goodnight': -0.17, 'moon': -0.17}\n",
      "F(x) to use for gradient{'hello': 1, 'world': 1}\n",
      "Weigths{'hello': 0.17, 'world': 0.17, 'goodnight': -0.17, 'moon': -0.17}\n",
      "{'hello': 0.18000000000000002, 'world': 0.18000000000000002, 'goodnight': -0.17, 'moon': -0.17}\n",
      "F(x) to use for gradient{'goodnight': 1, 'moon': 1}\n",
      "Weigths{'hello': 0.18000000000000002, 'world': 0.18000000000000002, 'goodnight': -0.17, 'moon': -0.17}\n",
      "{'hello': 0.18000000000000002, 'world': 0.18000000000000002, 'goodnight': -0.18000000000000002, 'moon': -0.18000000000000002}\n",
      "F(x) to use for gradient{'hello': 1, 'world': 1}\n",
      "Weigths{'hello': 0.18000000000000002, 'world': 0.18000000000000002, 'goodnight': -0.18000000000000002, 'moon': -0.18000000000000002}\n",
      "{'hello': 0.19000000000000003, 'world': 0.19000000000000003, 'goodnight': -0.18000000000000002, 'moon': -0.18000000000000002}\n",
      "F(x) to use for gradient{'goodnight': 1, 'moon': 1}\n",
      "Weigths{'hello': 0.19000000000000003, 'world': 0.19000000000000003, 'goodnight': -0.18000000000000002, 'moon': -0.18000000000000002}\n",
      "{'hello': 0.19000000000000003, 'world': 0.19000000000000003, 'goodnight': -0.19000000000000003, 'moon': -0.19000000000000003}\n",
      "F(x) to use for gradient{'hello': 1, 'world': 1}\n",
      "Weigths{'hello': 0.19000000000000003, 'world': 0.19000000000000003, 'goodnight': -0.19000000000000003, 'moon': -0.19000000000000003}\n",
      "{'hello': 0.20000000000000004, 'world': 0.20000000000000004, 'goodnight': -0.19000000000000003, 'moon': -0.19000000000000003}\n",
      "F(x) to use for gradient{'goodnight': 1, 'moon': 1}\n",
      "Weigths{'hello': 0.20000000000000004, 'world': 0.20000000000000004, 'goodnight': -0.19000000000000003, 'moon': -0.19000000000000003}\n",
      "{'hello': 0.20000000000000004, 'world': 0.20000000000000004, 'goodnight': -0.20000000000000004, 'moon': -0.20000000000000004}\n",
      "0.0\n",
      "0.0\n",
      "{'hello': 0.20000000000000004, 'world': 0.20000000000000004, 'goodnight': -0.20000000000000004, 'moon': -0.20000000000000004}\n"
     ]
    }
   ],
   "source": [
    "numEpochs=20\n",
    "eta=0.01\n",
    "trainExamples = ((\"hello world\", 1), (\"goodnight moon\", -1))\n",
    "validationExamples = ((\"hello\", 1), (\"moon\", -1))\n",
    "print(learnPredictor_lv(trainExamples,validationExamples,extractWordFeatures,numEpochs,eta))"
   ],
   "metadata": {
    "collapsed": false,
    "pycharm": {
     "name": "#%%\n"
    }
   }
  },
  {
   "cell_type": "code",
   "execution_count": 172,
   "outputs": [],
   "source": [
    "def generateDataset(numExamples: int, weights: WeightVector) -> List[Example]:\n",
    "    \"\"\"\n",
    "    Return a set of examples (phi(x), y) randomly which are classified correctly by\n",
    "    |weights|.\n",
    "    \"\"\"\n",
    "    random.seed(42)\n",
    "\n",
    "    # Return a single example (phi(x), y).\n",
    "    # phi(x) should be a dict whose keys are a subset of the keys in weights\n",
    "    # and values can be anything (randomize!) with a score for the given weight vector.\n",
    "    # y should be 1 or -1 as classified by the weight vector.\n",
    "    # y should be 1 if the score is precisely 0.\n",
    "\n",
    "    # Note that the weight vector can be arbitrary during testing.\n",
    "    def generateExample() -> Tuple[Dict[str, int], int]:\n",
    "        phi = None\n",
    "        y = None\n",
    "        # ### START CODE HERE ###\n",
    "        phi = {k: v * random.random() for k, v in weights.items()}\n",
    "        y = 1 if dotProduct(phi, weights) > 0 else -1\n",
    "        # ### END CODE HERE ###\n",
    "        return (phi, y)\n",
    "\n",
    "    return [generateExample() for _ in range(numExamples)]"
   ],
   "metadata": {
    "collapsed": false,
    "pycharm": {
     "name": "#%%\n"
    }
   }
  },
  {
   "cell_type": "code",
   "execution_count": 179,
   "outputs": [
    {
     "data": {
      "text/plain": "1"
     },
     "execution_count": 179,
     "metadata": {},
     "output_type": "execute_result"
    }
   ],
   "source": [
    "weightss = {'hello': 0.20000000000000004, 'world': 0.20000000000000004, 'goodnight': -0.20000000000000004, 'moon': -0.20000000000000004}\n",
    "phix_test = {'hello': 1, 'world': 1, 'goodnight': 0, 'moon': 0}\n",
    "y = 1 if dotProduct(phix_test, weightss) > 0 else -1\n",
    "y"
   ],
   "metadata": {
    "collapsed": false,
    "pycharm": {
     "name": "#%%\n"
    }
   }
  },
  {
   "cell_type": "code",
   "execution_count": 184,
   "outputs": [],
   "source": [
    "def extractCharacterFeatures(n: int) -> Callable[[str], FeatureVector]:\n",
    "    \"\"\"\n",
    "    Return a function that takes a string |x| and returns a sparse feature\n",
    "    vector consisting of all n-grams of |x| without spaces mapped to their n-gram counts.\n",
    "    EXAMPLE: (n = 3) \"I like tacos\" --> {'Ili': 1, 'lik': 1, 'ike': 1, ...\n",
    "    You may assume that n >= 1.\n",
    "    \"\"\"\n",
    "\n",
    "    def extract(x):\n",
    "        pass\n",
    "        # ### START CODE HERE ###\n",
    "        FeatureVector = {}\n",
    "        b = x.replace(\" \",\"\")\n",
    "        for n_gram in [b[i:i+n] for i in range(len(b)-n+1)]:\n",
    "            if n_gram not in FeatureVector:\n",
    "                FeatureVector[n_gram] = 1\n",
    "            else:\n",
    "                FeatureVector[n_gram] += 1\n",
    "        return FeatureVector\n",
    "\n",
    "        # ### END CODE HERE ###\n",
    "\n",
    "    return extract"
   ],
   "metadata": {
    "collapsed": false,
    "pycharm": {
     "name": "#%%\n"
    }
   }
  },
  {
   "cell_type": "code",
   "execution_count": 185,
   "outputs": [],
   "source": [
    "extract = extractCharacterFeatures(3)"
   ],
   "metadata": {
    "collapsed": false,
    "pycharm": {
     "name": "#%%\n"
    }
   }
  },
  {
   "cell_type": "code",
   "execution_count": 186,
   "outputs": [
    {
     "data": {
      "text/plain": "{'Ili': 1,\n 'lik': 1,\n 'ike': 1,\n 'ket': 1,\n 'eta': 1,\n 'tac': 1,\n 'aco': 1,\n 'cos': 1}"
     },
     "execution_count": 186,
     "metadata": {},
     "output_type": "execute_result"
    }
   ],
   "source": [
    "extract(\"I like tacos\")"
   ],
   "metadata": {
    "collapsed": false,
    "pycharm": {
     "name": "#%%\n"
    }
   }
  },
  {
   "cell_type": "code",
   "execution_count": 263,
   "outputs": [
    {
     "data": {
      "text/plain": "[Counter({'bad': 1, 'worst': 1, 'plot1': 2, 'plot0': 2, 'filler2': 1}),\n Counter({'good': 2, 'plot1': 3, 'plot0': 1, 'filler2': 1}),\n Counter({'great': 1,\n          'excellent': 1,\n          'music2': 1,\n          'music0': 1,\n          'music1': 1,\n          'music3': 1,\n          'filler1': 1}),\n Counter({'great': 2, 'acting0': 3, 'acting3': 1, 'filler1': 1}),\n Counter({'fantastic': 1, 'good': 1, 'music3': 2, 'music0': 2, 'filler2': 1}),\n Counter({'fantastic': 1,\n          'great': 1,\n          'music0': 2,\n          'music1': 1,\n          'music2': 1,\n          'filler0': 1}),\n Counter({'bad': 1,\n          'terrible': 1,\n          'acting3': 1,\n          'acting2': 2,\n          'acting1': 1,\n          'filler1': 1}),\n Counter({'worst': 1, 'bad': 1, 'music1': 3, 'music3': 1, 'filler1': 1}),\n Counter({'great': 1,\n          'fantastic': 1,\n          'plot1': 1,\n          'plot0': 1,\n          'plot2': 1,\n          'plot3': 1,\n          'filler1': 1}),\n Counter({'awful': 1, 'worst': 1, 'plot3': 3, 'plot1': 1, 'filler1': 1})]"
     },
     "execution_count": 263,
     "metadata": {},
     "output_type": "execute_result"
    }
   ],
   "source": [
    "examples = generateClusteringExamples(10,4,3)\n",
    "examples"
   ],
   "metadata": {
    "collapsed": false,
    "pycharm": {
     "name": "#%%\n"
    }
   }
  },
  {
   "cell_type": "code",
   "execution_count": 291,
   "outputs": [],
   "source": [
    "x1 = {0: 0, 1: 0}\n",
    "x2 = {0: 0, 1: 1}\n",
    "x3 = {0: 0, 1: 2}\n",
    "x4 = {0: 0, 1: 3}\n",
    "x5 = {0: 0, 1: 4}\n",
    "x6 = {0: 0, 1: 5, 2: 6}\n",
    "x7 = {0: 0, 1: 5, 2: 6, 3: 9}\n",
    "examples = [x1, x2, x3, x4, x5, x6, x7]\n",
    "K = 2\n",
    "maxEpochs=10\n"
   ],
   "metadata": {
    "collapsed": false,
    "pycharm": {
     "name": "#%%\n"
    }
   }
  },
  {
   "cell_type": "code",
   "execution_count": 311,
   "outputs": [
    {
     "name": "stdout",
     "output_type": "stream",
     "text": [
      "0\n",
      "{0: 0, 1: 0}\n",
      "1\n",
      "{0: 0, 1: 20, 2: 12, 3: 9}\n",
      "0\n",
      "{0: 0, 1: 3}\n",
      "1\n",
      "{0: 0, 1: 17, 2: 12, 3: 9}\n",
      "0\n",
      "{0: 0, 1: 10}\n",
      "1\n",
      "{0: 0, 1: 10, 2: 12, 3: 9}\n",
      "0\n",
      "{0: 0, 1: 10}\n",
      "1\n",
      "{0: 0, 1: 10, 2: 12, 3: 9}\n",
      "0\n",
      "{0: 0, 1: 10}\n",
      "1\n",
      "{0: 0, 1: 10, 2: 12, 3: 9}\n",
      "0\n",
      "{0: 0, 1: 10}\n",
      "1\n",
      "{0: 0, 1: 10, 2: 12, 3: 9}\n",
      "0\n",
      "{0: 0, 1: 10}\n",
      "1\n",
      "{0: 0, 1: 10, 2: 12, 3: 9}\n",
      "0\n",
      "{0: 0, 1: 10}\n",
      "1\n",
      "{0: 0, 1: 10, 2: 12, 3: 9}\n",
      "0\n",
      "{0: 0, 1: 10}\n",
      "1\n",
      "{0: 0, 1: 10, 2: 12, 3: 9}\n",
      "0\n",
      "{0: 0, 1: 10}\n",
      "1\n",
      "{0: 0, 1: 10, 2: 12, 3: 9}\n",
      "[{0: 0.0, 1: 2.0}, {0: 0.0, 1: 5.0, 2: 6.0, 3: 4.5}]\n",
      "{0: {0: 0.0, 1: 2.0}, 1: {0: 0.0, 1: 5.0, 2: 6.0, 3: 4.5}}\n",
      "{0: 0, 1: 0, 2: 0, 3: 0, 4: 0, 5: 1, 6: 1}\n",
      "50.5\n"
     ]
    }
   ],
   "source": [
    "zlist = {}\n",
    "total_loss = 0\n",
    "prev_loss = float(\"inf\") #stores an infinite value that acts as an unbounded upper value for comparison\n",
    "centroids = {}\n",
    "\n",
    "\n",
    "random_sample = random.sample(range(0,len(examples)-1),K) #get K random indexes from examples\n",
    "\n",
    "for c in range(K):\n",
    "    centroids[c] = examples[c]\n",
    "\n",
    "\n",
    "cacheExamples = {}\n",
    "for i in range(len(examples)):\n",
    "    cacheExamples[i] = dotProduct(examples[i],examples[i])\n",
    "\n",
    "for t in range(maxEpochs):\n",
    "    if prev_loss == total_loss:\n",
    "        break\n",
    "\n",
    "    prev_loss == total_loss\n",
    "    total_loss = 0\n",
    "\n",
    "    cacheCentroids = {}\n",
    "    for j in range(K):\n",
    "        cacheCentroids[j] = dotProduct(centroids[j],centroids[j])\n",
    "\n",
    "    # set assignments\n",
    "    for i in range(len(examples)):\n",
    "        example = examples[i]\n",
    "        running_min = float(\"inf\")\n",
    "        exampleDot = cacheExamples[i]\n",
    "        for j in range(K):\n",
    "            centroid = centroids[j]\n",
    "            centroidDot = cacheCentroids[j]\n",
    "            dist = abs(exampleDot - 2*dotProduct(example,centroid)+centroidDot)\n",
    "            if dist<running_min:\n",
    "                running_min = dist\n",
    "                zlist[i] = j\n",
    "        total_loss += running_min\n",
    "\n",
    "    #update clusters\n",
    "    for j in range(K):\n",
    "        running_sum = {}\n",
    "        count = 0.0\n",
    "        for i in range(len(examples)):\n",
    "            if zlist[i] == j:\n",
    "                increment(running_sum,1,examples[i])\n",
    "                count += 1.0\n",
    "        if count == 0.0:\n",
    "            continue\n",
    "        print(j)\n",
    "        print(running_sum)\n",
    "        centroids[j] = {k : v/count for k,v in running_sum.items()}\n",
    "cen_list = []\n",
    "for v in centroids.values():\n",
    "    cen_list.append(v)\n",
    "print(cen_list)\n",
    "print(centroids)\n",
    "print(zlist)\n",
    "print(round(total_loss,3))\n",
    "\n"
   ],
   "metadata": {
    "collapsed": false,
    "pycharm": {
     "name": "#%%\n"
    }
   }
  },
  {
   "cell_type": "code",
   "execution_count": 295,
   "outputs": [
    {
     "ename": "TabError",
     "evalue": "inconsistent use of tabs and spaces in indentation (<ipython-input-295-c8ff8aad2bae>, line 19)",
     "output_type": "error",
     "traceback": [
      "\u001B[1;36m  File \u001B[1;32m\"<ipython-input-295-c8ff8aad2bae>\"\u001B[1;36m, line \u001B[1;32m19\u001B[0m\n\u001B[1;33m    for j in range(K):\u001B[0m\n\u001B[1;37m                      ^\u001B[0m\n\u001B[1;31mTabError\u001B[0m\u001B[1;31m:\u001B[0m inconsistent use of tabs and spaces in indentation\n"
     ]
    }
   ],
   "source": [
    "def kmeans(\n",
    "    examples: List[Dict[str, float]], K: int, maxEpochs: int\n",
    ") -> Tuple[List, List, float]:\n",
    "    \"\"\"\n",
    "    examples: list of examples, each example is a string-to-float dict representing a sparse vector.\n",
    "    K: number of desired clusters. Assume that 0 < K <= |examples|.\n",
    "    maxEpochs: maximum number of epochs to run (you should terminate early if the algorithm converges).\n",
    "    Return: (length K list of cluster centroids,\n",
    "            list of assignments (i.e. if examples[i] belongs to centers[j], then assignments[i] = j),\n",
    "            final reconstruction loss)\n",
    "    \"\"\"\n",
    "    # ### START CODE HERE ###\n",
    "    zlist = [None]*len(examples)\n",
    "    clusters = {}\n",
    "    total_loss = 0\n",
    "    prev_loss = float(\"inf\")\n",
    "\n",
    "\t# initialize clusters\n",
    "\tfor j in range(K):\n",
    "        clusters[j] = examples[j]\n",
    "\n",
    "\t# cache dot products of examples\n",
    "\tcacheExamples = {}\n",
    "\tfor i in range(len(examples)):\n",
    "        cacheExamples[i] = dotProduct(examples[i], examples[i])\n",
    "\n",
    "\t# handles control flow of algorithm\n",
    "\tfor t in range(maxEpochs):\n",
    "        if prev_loss == total_loss:\n",
    "            break\n",
    "\n",
    "        prev_loss = total_loss\n",
    "        total_loss = 0\n",
    "\n",
    "\t\t# cache dot products of clusters\n",
    "\t\tcacheClusters = {}\n",
    "\t\tfor j in range(K):\n",
    "                cacheClusters[j] = dotProduct(clusters[j], clusters[j])\n",
    "\n",
    "\t\t# assign cluster labels to examples\n",
    "\t\tfor i in range(len(examples)):\n",
    "                running_min = float(\"inf\")\n",
    "\t\t\t    exampleDot = cacheExamples[i]\n",
    "\t\t\t    example = examples[i]\n",
    "\t\t\t    for j in range(K):\n",
    "                    cluster =  clusters[j]\n",
    "\t\t\t\t    clusterDot = cacheClusters[j]\n",
    "\t\t\t\t    dist = abs(exampleDot - 2*dotProduct(example, cluster) + clusterDot) # preprocessed\n",
    "\t\t\t\t    if dist < running_min:\n",
    "\t\t\t\t\t    running_min = dist\n",
    "\t\t\t\t\t    zlist[i] = j\n",
    "\t\t\t    total_loss += running_min\n",
    "\n",
    "\t\t# update cluster values based on means\n",
    "\t\tfor j in range(K):\n",
    "                running_sum = {}\n",
    "\t\t\t    count = 0.0\n",
    "\t\t\t    for i in range(len(examples)):\n",
    "                    if zlist[i] == j:\n",
    "\t\t\t\t\t    increment(running_sum, 1, examples[i])\n",
    "\t\t\t\t\t    count += 1.0\n",
    "\t\t\t    if count == 0.0:\n",
    "\t\t\t\t    continue\n",
    "\t\t\t    clusters[j] = {k : v/count for k,v in running_sum.iteritems()}\n",
    "\n",
    "        clusters_list = [clusters.items()]\n",
    "\n",
    "\treturn clusters_list, zlist, total_loss\n",
    "\n",
    "    # ### END CODE HERE ###"
   ],
   "metadata": {
    "collapsed": false,
    "pycharm": {
     "name": "#%%\n"
    }
   }
  },
  {
   "cell_type": "code",
   "execution_count": null,
   "outputs": [],
   "source": [],
   "metadata": {
    "collapsed": false,
    "pycharm": {
     "name": "#%%\n"
    }
   }
  }
 ],
 "metadata": {
  "kernelspec": {
   "display_name": "Python 3",
   "language": "python",
   "name": "python3"
  },
  "language_info": {
   "codemirror_mode": {
    "name": "ipython",
    "version": 2
   },
   "file_extension": ".py",
   "mimetype": "text/x-python",
   "name": "python",
   "nbconvert_exporter": "python",
   "pygments_lexer": "ipython2",
   "version": "2.7.6"
  }
 },
 "nbformat": 4,
 "nbformat_minor": 0
}